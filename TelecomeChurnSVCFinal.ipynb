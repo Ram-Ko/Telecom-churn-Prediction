{
 "cells": [
  {
   "cell_type": "code",
   "execution_count": 73,
   "id": "27d1a653",
   "metadata": {},
   "outputs": [],
   "source": [
    "import pandas as pd\n",
    "import matplotlib.pyplot as plt\n",
    "import seaborn as sns\n",
    "import numpy as np\n",
    "import warnings\n",
    "warnings.filterwarnings('ignore')\n",
    "import imblearn\n",
    "from imblearn.over_sampling import SMOTE\n",
    "from sklearn.manifold import TSNE\n",
    "from sklearn.preprocessing import StandardScaler\n",
    "from sklearn.model_selection import train_test_split\n",
    "from sklearn.decomposition import PCA\n",
    "import xgboost as xgb\n",
    "from xgboost.sklearn import XGBClassifier\n",
    "from sklearn.svm import SVC\n",
    "from sklearn.ensemble import RandomForestClassifier\n",
    "from sklearn.model_selection import GridSearchCV,RandomizedSearchCV\n",
    "from sklearn.metrics import recall_score,precision_score,confusion_matrix\n",
    "from collections import Counter"
   ]
  },
  {
   "cell_type": "code",
   "execution_count": 74,
   "id": "3c85f102",
   "metadata": {},
   "outputs": [],
   "source": [
    "Tel=pd.read_csv('C:\\\\Users\\\\gramakot\\\\OneDrive - UHG\\\\Upgrad\\\\TelecomeChurnGroupCaseStudy\\\\train.csv')\n",
    "Tel['churn_probability'].value_counts()\n",
    "Drop=['id','circle_id','date_of_last_rech_data_6','date_of_last_rech_data_7','date_of_last_rech_data_8','last_date_of_month_6','last_date_of_month_7','last_date_of_month_8','date_of_last_rech_6','date_of_last_rech_7','date_of_last_rech_8']\n",
    "Tel.drop(Drop,axis=1,inplace=True)\n",
    "Null_Info=pd.DataFrame(Tel.isnull().sum()).reset_index()\n",
    "Null_Info.columns=['Columns','Null_Count']\n",
    "Null_Info[Null_Info['Null_Count']!=0]['Null_Count'].value_counts()\n",
    "Drop_Col_Na=list(Null_Info[Null_Info['Null_Count'].isin([52431,52134,51582])]['Columns'])"
   ]
  },
  {
   "cell_type": "markdown",
   "id": "9e8a4653",
   "metadata": {},
   "source": [
    "**Imputing NA with zeros for below columns**"
   ]
  },
  {
   "cell_type": "code",
   "execution_count": 75,
   "id": "b4c465f4",
   "metadata": {},
   "outputs": [],
   "source": [
    "rech_col_imp=['total_rech_data_6','total_rech_data_7','total_rech_data_8','max_rech_data_6','max_rech_data_7','max_rech_data_8','count_rech_2g_6','count_rech_2g_7','count_rech_2g_8','count_rech_3g_6','count_rech_3g_7','count_rech_3g_8','av_rech_amt_data_6','av_rech_amt_data_7','av_rech_amt_data_8']\n",
    "Tel[rech_col_imp]=Tel[rech_col_imp].fillna(value=0)"
   ]
  },
  {
   "cell_type": "code",
   "execution_count": 76,
   "id": "1505c784",
   "metadata": {},
   "outputs": [
    {
     "data": {
      "text/plain": [
       "0    62867\n",
       "1     7132\n",
       "Name: churn_probability, dtype: int64"
      ]
     },
     "execution_count": 76,
     "metadata": {},
     "output_type": "execute_result"
    }
   ],
   "source": [
    "Tel['churn_probability'].value_counts()"
   ]
  },
  {
   "cell_type": "markdown",
   "id": "d956c3eb",
   "metadata": {},
   "source": [
    "**Created new columns for amount fields, If a user is churning he will not show interest to use services in the last month in our case it is August**"
   ]
  },
  {
   "cell_type": "code",
   "execution_count": 77,
   "id": "22de6322",
   "metadata": {},
   "outputs": [],
   "source": [
    "Tel['Total_data_rech_amt_6']=Tel['total_rech_data_6'].fillna(0) * Tel['av_rech_amt_data_6'].fillna(0)\n",
    "Tel['Total_data_rech_amt_7']=Tel['total_rech_data_7'].fillna(0) * Tel['av_rech_amt_data_7'].fillna(0)\n",
    "Tel['Total_data_rech_amt_8']=Tel['total_rech_data_8'].fillna(0) * Tel['av_rech_amt_data_8'].fillna(0)\n",
    "Tel['Total_rech_amt_both_6']=Tel['Total_data_rech_amt_6']+Tel['total_rech_amt_6'].fillna(value=0)\n",
    "Tel['Total_rech_amt_both_7']=Tel['Total_data_rech_amt_7']+Tel['total_rech_amt_7'].fillna(value=0)\n",
    "Tel['Total_rech_amt_both_8']=Tel['Total_data_rech_amt_8']+Tel['total_rech_amt_8'].fillna(value=0)\n",
    "Tel['High_value_det']=(Tel['Total_rech_amt_both_6']+Tel['Total_rech_amt_both_7'])/2"
   ]
  },
  {
   "cell_type": "code",
   "execution_count": 78,
   "id": "8e2e6b2b",
   "metadata": {},
   "outputs": [
    {
     "data": {
      "text/plain": [
       "477.5"
      ]
     },
     "execution_count": 78,
     "metadata": {},
     "output_type": "execute_result"
    }
   ],
   "source": [
    "Tel['High_value_det'].quantile(0.7)"
   ]
  },
  {
   "cell_type": "code",
   "execution_count": 79,
   "id": "ed1632ec",
   "metadata": {},
   "outputs": [
    {
     "data": {
      "text/plain": [
       "0    19274\n",
       "1     1739\n",
       "Name: churn_probability, dtype: int64"
      ]
     },
     "execution_count": 79,
     "metadata": {},
     "output_type": "execute_result"
    }
   ],
   "source": [
    "Tel_HVC=Tel[Tel['High_value_det']>=477.5]\n",
    "Tel_HVC['churn_probability'].value_counts()"
   ]
  },
  {
   "cell_type": "code",
   "execution_count": 80,
   "id": "8e050e90",
   "metadata": {},
   "outputs": [
    {
     "data": {
      "text/plain": [
       "<AxesSubplot:xlabel='churn_probability', ylabel='total_rech_amt_8'>"
      ]
     },
     "execution_count": 80,
     "metadata": {},
     "output_type": "execute_result"
    },
    {
     "data": {
      "image/png": "[encoded data removed]",
      "text/plain": [
       "<Figure size 432x288 with 1 Axes>"
      ]
     },
     "metadata": {
      "needs_background": "light"
     },
     "output_type": "display_data"
    }
   ],
   "source": [
    "sns.boxplot(x='churn_probability',y='total_rech_amt_8',data=Tel_HVC)"
   ]
  },
  {
   "cell_type": "markdown",
   "id": "ca86ab17",
   "metadata": {},
   "source": [
    "**All the below columns can be combined to form other columns so these can be dropped**"
   ]
  },
  {
   "cell_type": "code",
   "execution_count": 81,
   "id": "9f1a696e",
   "metadata": {},
   "outputs": [],
   "source": [
    "Drop_Col_Na1=['count_rech_2g_6','count_rech_2g_7','count_rech_2g_8','count_rech_3g_6','count_rech_3g_7','count_rech_3g_8'\n",
    "             ,'loc_ic_mou_6','loc_ic_t2t_mou_6','loc_ic_t2m_mou_6','loc_ic_t2f_mou_6','std_ic_mou_6','std_ic_t2t_mou_6','std_ic_t2m_mou_6','std_ic_t2f_mou_6','std_ic_t2o_mou_6','spl_ic_mou_6','isd_ic_mou_6','ic_others_6'\n",
    "             ,'loc_ic_mou_7','loc_ic_t2t_mou_7','loc_ic_t2m_mou_7','loc_ic_t2f_mou_7','std_ic_mou_7','std_ic_t2t_mou_7','std_ic_t2m_mou_7','std_ic_t2f_mou_7','std_ic_t2o_mou_7','spl_ic_mou_7','isd_ic_mou_7','ic_others_7'\n",
    "             ,'loc_ic_mou_8','loc_ic_t2t_mou_8','loc_ic_t2m_mou_8','loc_ic_t2f_mou_8','std_ic_mou_8','std_ic_t2t_mou_8','std_ic_t2m_mou_8','std_ic_t2f_mou_8','std_ic_t2o_mou_8','spl_ic_mou_8','isd_ic_mou_8','ic_others_8'\n",
    "             ,'std_og_mou_6','std_og_t2c_mou_6','std_og_t2f_mou_6','std_og_t2m_mou_6','std_og_t2t_mou_6','loc_og_mou_6','loc_og_t2t_mou_6','loc_og_t2m_mou_6','loc_og_t2f_mou_6','isd_og_mou_6','spl_og_mou_6','og_others_6'\n",
    "             ,'std_og_mou_7','std_og_t2c_mou_7','std_og_t2f_mou_7','std_og_t2m_mou_7','std_og_t2t_mou_7','loc_og_mou_7','loc_og_t2t_mou_7','loc_og_t2m_mou_7','loc_og_t2f_mou_7','isd_og_mou_7','spl_og_mou_7','og_others_7'\n",
    "             ,'std_og_mou_8','std_og_t2c_mou_8','std_og_t2f_mou_8','std_og_t2m_mou_8','std_og_t2t_mou_8','loc_og_mou_8','loc_og_t2t_mou_8','loc_og_t2m_mou_8','loc_og_t2f_mou_8','isd_og_mou_8','spl_og_mou_8','og_others_8']\n",
    "\n",
    "Tel_HVC.drop(Drop_Col_Na1,inplace=True,axis=1)"
   ]
  },
  {
   "cell_type": "code",
   "execution_count": 82,
   "id": "f5ff4720",
   "metadata": {},
   "outputs": [
    {
     "data": {
      "text/plain": [
       "397     5\n",
       "393     5\n",
       "822     5\n",
       "9327    4\n",
       "9094    4\n",
       "9833    4\n",
       "167     3\n",
       "Name: Null_Count, dtype: int64"
      ]
     },
     "execution_count": 82,
     "metadata": {},
     "output_type": "execute_result"
    }
   ],
   "source": [
    "Null_Info=pd.DataFrame(Tel_HVC.isnull().sum()).reset_index()\n",
    "Null_Info.columns=['Columns','Null_Count']\n",
    "Null_Info[Null_Info['Null_Count']!=0]['Null_Count'].value_counts()"
   ]
  },
  {
   "cell_type": "code",
   "execution_count": 83,
   "id": "40ff22f9",
   "metadata": {},
   "outputs": [],
   "source": [
    "Drop_Col_Na=list(Null_Info[Null_Info['Null_Count'].isin([9327,9094,9833])]['Columns'])\n",
    "Tel_HVC.drop(Drop_Col_Na,inplace=True,axis=1)"
   ]
  },
  {
   "cell_type": "code",
   "execution_count": 84,
   "id": "4376c636",
   "metadata": {},
   "outputs": [
    {
     "data": {
      "text/plain": [
       "(-1000.0, 5000.0)"
      ]
     },
     "execution_count": 84,
     "metadata": {},
     "output_type": "execute_result"
    },
    {
     "data": {
      "image/png": "[encoded data removed]",
      "text/plain": [
       "<Figure size 936x360 with 2 Axes>"
      ]
     },
     "metadata": {
      "needs_background": "light"
     },
     "output_type": "display_data"
    }
   ],
   "source": [
    "plt.figure(figsize=(13,5))\n",
    "plt.subplot(1,2,1)\n",
    "sns.boxplot(data=Tel_HVC,y='Total_rech_amt_both_7',x='churn_probability')\n",
    "plt.ylim(-1000,5000)\n",
    "plt.subplot(1,2,2)\n",
    "sns.boxplot(data=Tel_HVC,y='Total_rech_amt_both_8',x='churn_probability')\n",
    "plt.ylim(-1000,5000)"
   ]
  },
  {
   "cell_type": "markdown",
   "id": "7e77bb2f",
   "metadata": {},
   "source": [
    "**As expected in the month of August there is less usage**"
   ]
  },
  {
   "cell_type": "code",
   "execution_count": 85,
   "id": "812df329",
   "metadata": {},
   "outputs": [
    {
     "data": {
      "text/plain": [
       "(-1000.0, 2000.0)"
      ]
     },
     "execution_count": 85,
     "metadata": {},
     "output_type": "execute_result"
    },
    {
     "data": {
      "image/png": "[encoded data removed]",
      "text/plain": [
       "<Figure size 936x360 with 2 Axes>"
      ]
     },
     "metadata": {
      "needs_background": "light"
     },
     "output_type": "display_data"
    }
   ],
   "source": [
    "plt.figure(figsize=(13,5))\n",
    "plt.subplot(1,2,1)\n",
    "sns.boxplot(data=Tel,y='total_ic_mou_6',x='churn_probability')\n",
    "plt.ylim(-1000,2000)\n",
    "plt.subplot(1,2,2)\n",
    "sns.boxplot(data=Tel,y='total_ic_mou_8',x='churn_probability')\n",
    "plt.ylim(-1000,2000)"
   ]
  },
  {
   "cell_type": "code",
   "execution_count": 86,
   "id": "b1229f26",
   "metadata": {},
   "outputs": [
    {
     "data": {
      "text/plain": [
       "(-1000.0, 2000.0)"
      ]
     },
     "execution_count": 86,
     "metadata": {},
     "output_type": "execute_result"
    },
    {
     "data": {
      "image/png": "[encoded data removed]",
      "text/plain": [
       "<Figure size 936x360 with 2 Axes>"
      ]
     },
     "metadata": {
      "needs_background": "light"
     },
     "output_type": "display_data"
    }
   ],
   "source": [
    "plt.figure(figsize=(13,5))\n",
    "plt.subplot(1,2,1)\n",
    "sns.boxplot(data=Tel,y='total_og_mou_6',x='churn_probability')\n",
    "plt.ylim(-1000,2000)\n",
    "plt.subplot(1,2,2)\n",
    "sns.boxplot(data=Tel,y='total_og_mou_8',x='churn_probability')\n",
    "plt.ylim(-1000,2000)"
   ]
  },
  {
   "cell_type": "code",
   "execution_count": 87,
   "id": "0605361a",
   "metadata": {},
   "outputs": [
    {
     "data": {
      "text/plain": [
       "(-1000.0, 2000.0)"
      ]
     },
     "execution_count": 87,
     "metadata": {},
     "output_type": "execute_result"
    },
    {
     "data": {
      "image/png": "[encoded data removed]",
      "text/plain": [
       "<Figure size 936x360 with 2 Axes>"
      ]
     },
     "metadata": {
      "needs_background": "light"
     },
     "output_type": "display_data"
    }
   ],
   "source": [
    "plt.figure(figsize=(13,5))\n",
    "plt.subplot(1,2,1)\n",
    "sns.boxplot(data=Tel,y='arpu_6',x='churn_probability')\n",
    "plt.ylim(-1000,2000)\n",
    "plt.subplot(1,2,2)\n",
    "sns.boxplot(data=Tel,y='arpu_8',x='churn_probability')\n",
    "plt.ylim(-1000,2000)"
   ]
  },
  {
   "cell_type": "code",
   "execution_count": 132,
   "id": "51a3de20",
   "metadata": {},
   "outputs": [
    {
     "data": {
      "text/plain": [
       "(0.0, 1000.0)"
      ]
     },
     "execution_count": 132,
     "metadata": {},
     "output_type": "execute_result"
    },
    {
     "data": {
      "image/png": "[encoded data removed]",
      "text/plain": [
       "<Figure size 936x360 with 2 Axes>"
      ]
     },
     "metadata": {
      "needs_background": "light"
     },
     "output_type": "display_data"
    }
   ],
   "source": [
    "plt.figure(figsize=(13,5))\n",
    "plt.subplot(1,2,1)\n",
    "sns.boxplot(data=Tel,y='onnet_mou_6',x='churn_probability')\n",
    "plt.ylim(0,1000)\n",
    "plt.subplot(1,2,2)\n",
    "sns.boxplot(data=Tel,y='onnet_mou_8',x='churn_probability')\n",
    "plt.ylim(0,1000)"
   ]
  },
  {
   "cell_type": "code",
   "execution_count": 128,
   "id": "b0f4c422",
   "metadata": {},
   "outputs": [
    {
     "data": {
      "text/plain": [
       "count    21013.000000\n",
       "mean         1.054109\n",
       "std          2.540754\n",
       "min          0.000000\n",
       "25%          0.000000\n",
       "50%          0.000000\n",
       "75%          1.000000\n",
       "max         44.000000\n",
       "Name: sachet_2g_8, dtype: float64"
      ]
     },
     "execution_count": 128,
     "metadata": {},
     "output_type": "execute_result"
    }
   ],
   "source": [
    "#sns.displot()\n",
    "#sns.displot(data=Tel,y='vol_2g_mb_6',x='churn_probability')\n",
    "#sns.displot(Tel_HVC['vol_2g_mb_6'])\n",
    "Tel_HVC['sachet_2g_8'].describe()"
   ]
  },
  {
   "cell_type": "code",
   "execution_count": 90,
   "id": "f905562f",
   "metadata": {
    "scrolled": true
   },
   "outputs": [
    {
     "data": {
      "text/plain": [
       "Index(['loc_og_t2o_mou', 'std_og_t2o_mou', 'loc_ic_t2o_mou', 'arpu_6',\n",
       "       'arpu_7', 'arpu_8', 'onnet_mou_6', 'onnet_mou_7', 'onnet_mou_8',\n",
       "       'offnet_mou_6', 'offnet_mou_7', 'offnet_mou_8', 'roam_ic_mou_6',\n",
       "       'roam_ic_mou_7', 'roam_ic_mou_8', 'roam_og_mou_6', 'roam_og_mou_7',\n",
       "       'roam_og_mou_8', 'loc_og_t2c_mou_6', 'loc_og_t2c_mou_7',\n",
       "       'loc_og_t2c_mou_8', 'total_og_mou_6', 'total_og_mou_7',\n",
       "       'total_og_mou_8', 'total_ic_mou_6', 'total_ic_mou_7', 'total_ic_mou_8',\n",
       "       'total_rech_num_6', 'total_rech_num_7', 'total_rech_num_8',\n",
       "       'total_rech_amt_6', 'total_rech_amt_7', 'total_rech_amt_8',\n",
       "       'max_rech_amt_6', 'max_rech_amt_7', 'max_rech_amt_8',\n",
       "       'last_day_rch_amt_6', 'last_day_rch_amt_7', 'last_day_rch_amt_8',\n",
       "       'total_rech_data_6', 'total_rech_data_7', 'total_rech_data_8',\n",
       "       'max_rech_data_6', 'max_rech_data_7', 'max_rech_data_8',\n",
       "       'av_rech_amt_data_6', 'av_rech_amt_data_7', 'av_rech_amt_data_8',\n",
       "       'vol_2g_mb_6', 'vol_2g_mb_7', 'vol_2g_mb_8', 'vol_3g_mb_6',\n",
       "       'vol_3g_mb_7', 'vol_3g_mb_8', 'monthly_2g_6', 'monthly_2g_7',\n",
       "       'monthly_2g_8', 'sachet_2g_6', 'sachet_2g_7', 'sachet_2g_8',\n",
       "       'monthly_3g_6', 'monthly_3g_7', 'monthly_3g_8', 'sachet_3g_6',\n",
       "       'sachet_3g_7', 'sachet_3g_8', 'aon', 'aug_vbc_3g', 'jul_vbc_3g',\n",
       "       'jun_vbc_3g', 'churn_probability', 'Total_data_rech_amt_6',\n",
       "       'Total_data_rech_amt_7', 'Total_data_rech_amt_8',\n",
       "       'Total_rech_amt_both_6', 'Total_rech_amt_both_7',\n",
       "       'Total_rech_amt_both_8', 'High_value_det'],\n",
       "      dtype='object')"
      ]
     },
     "execution_count": 90,
     "metadata": {},
     "output_type": "execute_result"
    }
   ],
   "source": [
    "Tel_HVC.columns"
   ]
  },
  {
   "cell_type": "markdown",
   "id": "7366bce2",
   "metadata": {},
   "source": [
    "**Imputing NAN with median values**"
   ]
  },
  {
   "cell_type": "code",
   "execution_count": 91,
   "id": "a4f13d73",
   "metadata": {},
   "outputs": [],
   "source": [
    "dict_na=dict(Tel_HVC.median())\n",
    "Tel_HVC=Tel_HVC.fillna(value=dict_na)"
   ]
  },
  {
   "cell_type": "code",
   "execution_count": 92,
   "id": "43341fab",
   "metadata": {},
   "outputs": [
    {
     "data": {
      "text/plain": [
       "Series([], Name: Null_Count, dtype: int64)"
      ]
     },
     "execution_count": 92,
     "metadata": {},
     "output_type": "execute_result"
    }
   ],
   "source": [
    "Null_Info=pd.DataFrame(Tel_HVC.isnull().sum()).reset_index()\n",
    "Null_Info.columns=['Columns','Null_Count']\n",
    "Null_Info[Null_Info['Null_Count']!=0]['Null_Count'].value_counts()"
   ]
  },
  {
   "cell_type": "code",
   "execution_count": 93,
   "id": "5408be8c",
   "metadata": {},
   "outputs": [
    {
     "data": {
      "text/plain": [
       "Counter({0: 19274, 1: 1739})"
      ]
     },
     "execution_count": 93,
     "metadata": {},
     "output_type": "execute_result"
    }
   ],
   "source": [
    "X=Tel_HVC.drop('churn_probability',axis=1)\n",
    "y=Tel_HVC['churn_probability']\n",
    "Counter(y)"
   ]
  },
  {
   "cell_type": "markdown",
   "id": "91e14267",
   "metadata": {},
   "source": [
    "**Since our data is imbalanced using SMOTE to generate synthetic data**"
   ]
  },
  {
   "cell_type": "code",
   "execution_count": 94,
   "id": "d21ddb12",
   "metadata": {},
   "outputs": [
    {
     "data": {
      "text/plain": [
       "Counter({0: 19274, 1: 19274})"
      ]
     },
     "execution_count": 94,
     "metadata": {},
     "output_type": "execute_result"
    }
   ],
   "source": [
    "oversample = SMOTE()\n",
    "X, y = oversample.fit_resample(X, y)\n",
    "Counter(y)"
   ]
  },
  {
   "cell_type": "code",
   "execution_count": 95,
   "id": "1f8fbd91",
   "metadata": {},
   "outputs": [],
   "source": [
    "X_train, X_test, y_train, y_test=train_test_split(X,y,train_size=0.8,random_state=18)\n",
    "sc=StandardScaler()\n",
    "X_train_sc=sc.fit_transform(X_train)\n",
    "X_test_sc=sc.transform(X_test)"
   ]
  },
  {
   "cell_type": "code",
   "execution_count": 96,
   "id": "08e0b5db",
   "metadata": {},
   "outputs": [
    {
     "data": {
      "image/png": "[encoded data removed]",
      "text/plain": [
       "<Figure size 792x504 with 1 Axes>"
      ]
     },
     "metadata": {
      "needs_background": "light"
     },
     "output_type": "display_data"
    }
   ],
   "source": [
    "pca=PCA(random_state=18)\n",
    "pca.fit(X_train_sc)\n",
    "var_cumu = np.cumsum(pca.explained_variance_ratio_)\n",
    "plt.figure(figsize=(11,7))\n",
    "plt.plot(range(1,len(var_cumu)+1), var_cumu,marker='.')\n",
    "plt.grid()"
   ]
  },
  {
   "cell_type": "markdown",
   "id": "c6a2b75d",
   "metadata": {},
   "source": [
    "**Using PCA to reduce number of dimensions**"
   ]
  },
  {
   "cell_type": "code",
   "execution_count": 97,
   "id": "0a33e6f4",
   "metadata": {},
   "outputs": [],
   "source": [
    "pca=PCA(n_components=50,random_state=18)\n",
    "X_train_PCA=pca.fit_transform(X_train_sc)\n",
    "X_test_PCA=pca.transform(X_test_sc)\n"
   ]
  },
  {
   "cell_type": "markdown",
   "id": "a74bcc94",
   "metadata": {},
   "source": [
    "**Applying XGBoost Technique**"
   ]
  },
  {
   "cell_type": "code",
   "execution_count": 29,
   "id": "91a078b3",
   "metadata": {},
   "outputs": [],
   "source": [
    "param_test1 = {\n",
    " 'max_depth':range(3,10,2),\n",
    " 'min_child_weight':[1,10,20,30,50],\n",
    " 'n_estimators':[100,200,250,300],\n",
    " 'alpha':[0,0.2,0.5,0.8,1],\n",
    " 'gamma':[0,0.2,0.5,0.8,1]\n",
    "}"
   ]
  },
  {
   "cell_type": "code",
   "execution_count": 98,
   "id": "7623ee9f",
   "metadata": {
    "scrolled": true
   },
   "outputs": [
    {
     "name": "stdout",
     "output_type": "stream",
     "text": [
      "Fitting 5 folds for each of 10 candidates, totalling 50 fits\n",
      "[19:38:01] WARNING: ..\\src\\learner.cc:1115: Starting in XGBoost 1.3.0, the default evaluation metric used with the objective 'binary:logistic' was changed from 'error' to 'logloss'. Explicitly set eval_metric if you'd like to restore the old behavior.\n"
     ]
    },
    {
     "data": {
      "text/plain": [
       "RandomizedSearchCV(cv=5,\n",
       "                   estimator=XGBClassifier(base_score=None, booster=None,\n",
       "                                           colsample_bylevel=None,\n",
       "                                           colsample_bynode=None,\n",
       "                                           colsample_bytree=0.8,\n",
       "                                           enable_categorical=False, gamma=0,\n",
       "                                           gpu_id=None, importance_type=None,\n",
       "                                           interaction_constraints=None,\n",
       "                                           learning_rate=0.1,\n",
       "                                           max_delta_step=None, max_depth=None,\n",
       "                                           min_child_weight=None, missing=nan,\n",
       "                                           monotone_constraints=None...\n",
       "                                           predictor=None, random_state=None,\n",
       "                                           reg_alpha=None, reg_lambda=None,\n",
       "                                           scale_pos_weight=None, seed=27,\n",
       "                                           subsample=0.8, tree_method=None,\n",
       "                                           validate_parameters=None,\n",
       "                                           verbosity=None),\n",
       "                   n_jobs=-1,\n",
       "                   param_distributions={'alpha': [0, 0.2, 0.5, 0.8, 1],\n",
       "                                        'gamma': [0, 0.2, 0.5, 0.8, 1],\n",
       "                                        'max_depth': range(3, 10, 2),\n",
       "                                        'min_child_weight': [1, 10, 20, 30, 50],\n",
       "                                        'n_estimators': [100, 200, 250, 300]},\n",
       "                   scoring='recall', verbose=True)"
      ]
     },
     "execution_count": 98,
     "metadata": {},
     "output_type": "execute_result"
    }
   ],
   "source": [
    "gsearch1 = RandomizedSearchCV(estimator = XGBClassifier( learning_rate =0.1, gamma=0, subsample=0.8, colsample_bytree=0.8,\n",
    " objective= 'binary:logistic', nthread=4, seed=27), \n",
    " param_distributions = param_test1, scoring='recall',n_jobs=-1, cv=5,verbose=True)\n",
    "gsearch1.fit(X_train_PCA,y_train)"
   ]
  },
  {
   "cell_type": "code",
   "execution_count": 105,
   "id": "f0a68148",
   "metadata": {},
   "outputs": [
    {
     "name": "stdout",
     "output_type": "stream",
     "text": [
      "{'n_estimators': 250, 'min_child_weight': 30, 'max_depth': 7, 'gamma': 0.2, 'alpha': 0.5}\n",
      "0.9414174252275684\n"
     ]
    }
   ],
   "source": [
    "print(gsearch1.best_params_)\n",
    "print(gsearch1.best_score_)"
   ]
  },
  {
   "cell_type": "code",
   "execution_count": 25,
   "id": "083d617e",
   "metadata": {},
   "outputs": [
    {
     "name": "stdout",
     "output_type": "stream",
     "text": [
      "[17:29:13] WARNING: ..\\src\\learner.cc:1115: Starting in XGBoost 1.3.0, the default evaluation metric used with the objective 'binary:logistic' was changed from 'error' to 'logloss'. Explicitly set eval_metric if you'd like to restore the old behavior.\n"
     ]
    },
    {
     "data": {
      "text/plain": [
       "XGBClassifier(alpha=0.5, base_score=0.5, booster='gbtree', colsample_bylevel=1,\n",
       "              colsample_bynode=1, colsample_bytree=0.8,\n",
       "              enable_categorical=False, gamma=0.2, gpu_id=-1,\n",
       "              importance_type=None, interaction_constraints='',\n",
       "              learning_rate=0.1, max_delta_step=0, max_depth=7,\n",
       "              min_child_weight=30, missing=nan, monotone_constraints='()',\n",
       "              n_estimators=250, n_jobs=4, nthread=4, num_parallel_tree=1,\n",
       "              predictor='auto', random_state=27, reg_alpha=0.5, reg_lambda=1,\n",
       "              scale_pos_weight=1, seed=27, subsample=0.8, tree_method='exact',\n",
       "              validate_parameters=1, ...)"
      ]
     },
     "execution_count": 25,
     "metadata": {},
     "output_type": "execute_result"
    }
   ],
   "source": [
    "xg=XGBClassifier(n_estimators=250,min_child_weight=30,max_depth=7, gamma=0.2, learning_rate =0.1,alpha=0.5,subsample=0.8, colsample_bytree=0.8,\n",
    " objective= 'binary:logistic', nthread=4, seed=27)\n",
    "xg.fit(X_train_PCA,y_train)"
   ]
  },
  {
   "cell_type": "code",
   "execution_count": 26,
   "id": "c6b251c9",
   "metadata": {},
   "outputs": [
    {
     "name": "stdout",
     "output_type": "stream",
     "text": [
      "0.9514637904468413\n",
      "0.9107669616519174\n",
      "0.9284046692607004\n",
      "[[3453  363]\n",
      " [ 189 3705]]\n"
     ]
    }
   ],
   "source": [
    "from sklearn.metrics import recall_score,precision_score,confusion_matrix,accuracy_score\n",
    "print(recall_score(y_test,xg.predict(X_test_PCA)))\n",
    "print(precision_score(y_test,xg.predict(X_test_PCA)))\n",
    "print(accuracy_score(y_test,xg.predict(X_test_PCA)))\n",
    "print(confusion_matrix(y_test,xg.predict(X_test_PCA)))"
   ]
  },
  {
   "cell_type": "markdown",
   "id": "bea2cdc9",
   "metadata": {},
   "source": [
    "**Applying SVC technique**"
   ]
  },
  {
   "cell_type": "code",
   "execution_count": 99,
   "id": "1187ae0b",
   "metadata": {},
   "outputs": [
    {
     "name": "stdout",
     "output_type": "stream",
     "text": [
      "Fitting 5 folds for each of 10 candidates, totalling 50 fits\n"
     ]
    },
    {
     "data": {
      "text/plain": [
       "RandomizedSearchCV(cv=5, estimator=SVC(), n_jobs=-1,\n",
       "                   param_distributions={'C': [0.1, 0.3, 0.5, 0.7, 1],\n",
       "                                        'gamma': [0.1, 0.3, 0.5, 0.7, 1]},\n",
       "                   scoring='accuracy', verbose=True)"
      ]
     },
     "execution_count": 99,
     "metadata": {},
     "output_type": "execute_result"
    }
   ],
   "source": [
    "param_test1 = {\n",
    "'C':[0.1,0.3,0.5,0.7,1],\n",
    "#'degree':[1,3,5,7,1],\n",
    "'gamma':[0.1,0.3,0.5,0.7,1]\n",
    "}\n",
    "from sklearn.svm import SVC\n",
    "gsearch1 = RandomizedSearchCV(estimator = SVC(kernel='rbf'), \n",
    " param_distributions = param_test1, scoring='accuracy',n_jobs=-1, cv=5,verbose=True)\n",
    "gsearch1.fit(X_train_PCA,y_train)"
   ]
  },
  {
   "cell_type": "code",
   "execution_count": 100,
   "id": "17dab896",
   "metadata": {},
   "outputs": [
    {
     "name": "stdout",
     "output_type": "stream",
     "text": [
      "{'gamma': 0.5, 'C': 1}\n",
      "0.9263571145696826\n"
     ]
    }
   ],
   "source": [
    "print(gsearch1.best_params_)\n",
    "print(gsearch1.best_score_)"
   ]
  },
  {
   "cell_type": "markdown",
   "id": "104371ae",
   "metadata": {},
   "source": [
    "**By Using SVC we are getting more accuracy**"
   ]
  },
  {
   "cell_type": "code",
   "execution_count": 101,
   "id": "5a94d3d2",
   "metadata": {},
   "outputs": [
    {
     "name": "stdout",
     "output_type": "stream",
     "text": [
      "0.9699537750385208\n",
      "0.9426004492138758\n",
      "0.954993514915694\n",
      "[[3586  230]\n",
      " [ 117 3777]]\n"
     ]
    }
   ],
   "source": [
    "sc1=SVC(kernel='rbf',gamma=0.1,degree=7,C=1)\n",
    "sc1.fit(X_train_PCA,y_train)\n",
    "from sklearn.metrics import recall_score,precision_score,confusion_matrix,accuracy_score\n",
    "print(recall_score(y_test,sc1.predict(X_test_PCA)))\n",
    "print(precision_score(y_test,sc1.predict(X_test_PCA)))\n",
    "print(accuracy_score(y_test,sc1.predict(X_test_PCA)))\n",
    "print(confusion_matrix(y_test,sc1.predict(X_test_PCA)))"
   ]
  },
  {
   "cell_type": "code",
   "execution_count": null,
   "id": "0e54dde6",
   "metadata": {},
   "outputs": [],
   "source": []
  },
  {
   "cell_type": "code",
   "execution_count": 106,
   "id": "ecf19cb8",
   "metadata": {},
   "outputs": [],
   "source": [
    "Tel_Test=pd.read_csv('C:\\\\Users\\\\gramakot\\\\OneDrive - UHG\\\\Upgrad\\\\TelecomeChurnGroupCaseStudy\\\\test.csv')\n",
    "Tel_Test[rech_col_imp]=Tel_Test[rech_col_imp].fillna(value=0)\n",
    "Tel_Test.drop(Drop,axis=1,inplace=True)\n",
    "Tel_Test.drop(Drop_Col_Na,axis=1,inplace=True)\n",
    "Null_Info=pd.DataFrame(Tel_Test.isnull().sum()).reset_index()\n",
    "Null_Info.columns=['Columns','Null_Count']\n",
    "Null_Info[Null_Info['Null_Count']!=0]['Null_Count'].value_counts()\n",
    "Tel_Test[rech_col_imp]=Tel_Test[rech_col_imp].fillna(value=0)\n",
    "Tel_Test=Tel_Test.fillna(value=dict_na)\n",
    "Tel_Test['Total_data_rech_amt_6']=Tel_Test['total_rech_data_6'].fillna(0) * Tel_Test['av_rech_amt_data_6'].fillna(0)\n",
    "Tel_Test['Total_data_rech_amt_7']=Tel_Test['total_rech_data_7'].fillna(0) * Tel_Test['av_rech_amt_data_7'].fillna(0)\n",
    "Tel_Test['Total_data_rech_amt_8']=Tel_Test['total_rech_data_8'].fillna(0) * Tel_Test['av_rech_amt_data_8'].fillna(0)\n",
    "Tel_Test['Total_rech_amt_both_6']=Tel_Test['Total_data_rech_amt_6']+Tel_Test['total_rech_amt_6'].fillna(value=0)\n",
    "Tel_Test['Total_rech_amt_both_7']=Tel_Test['Total_data_rech_amt_7']+Tel_Test['total_rech_amt_7'].fillna(value=0)\n",
    "Tel_Test['Total_rech_amt_both_8']=Tel_Test['Total_data_rech_amt_8']+Tel_Test['total_rech_amt_8'].fillna(value=0)\n",
    "Tel_Test['High_value_det']=(Tel_Test['Total_rech_amt_both_6']+Tel_Test['Total_rech_amt_both_7'])/2\n",
    "Tel_Test.drop(Drop_Col_Na1,inplace=True,axis=1)"
   ]
  },
  {
   "cell_type": "code",
   "execution_count": 107,
   "id": "3b1bc8a8",
   "metadata": {},
   "outputs": [
    {
     "data": {
      "text/plain": [
       "Series([], Name: Null_Count, dtype: int64)"
      ]
     },
     "execution_count": 107,
     "metadata": {},
     "output_type": "execute_result"
    }
   ],
   "source": [
    "Tel_Test1=pd.read_csv('C:\\\\Users\\\\gramakot\\\\OneDrive - UHG\\\\Upgrad\\\\TelecomeChurnGroupCaseStudy\\\\test.csv')\n",
    "Null_Info=pd.DataFrame(Tel_Test.isnull().sum()).reset_index()\n",
    "Null_Info.columns=['Columns','Null_Count']\n",
    "Null_Info[Null_Info['Null_Count']!=0]['Null_Count'].value_counts()\n"
   ]
  },
  {
   "cell_type": "code",
   "execution_count": 108,
   "id": "37682dc0",
   "metadata": {},
   "outputs": [],
   "source": [
    "X_test_sc1=sc.transform(Tel_Test)\n",
    "X_test_PCA1=pca.transform(X_test_sc1)"
   ]
  },
  {
   "cell_type": "markdown",
   "id": "01dff53c",
   "metadata": {},
   "source": [
    "**Storing test results into a file**"
   ]
  },
  {
   "cell_type": "code",
   "execution_count": 109,
   "id": "0366de9e",
   "metadata": {},
   "outputs": [],
   "source": [
    "df_SVC=pd.DataFrame()\n",
    "df_SVC['id']=Tel_Test1['id']\n",
    "df_SVC['churn_probability']=sc1.predict(X_test_PCA1)\n",
    "df_SVC.to_csv('C:\\\\Users\\\\gramakot\\\\OneDrive - UHG\\\\Upgrad\\\\TelecomeChurnGroupCaseStudy\\\\Output_SVC_50.csv')"
   ]
  },
  {
   "cell_type": "markdown",
   "id": "7d540f2e",
   "metadata": {},
   "source": [
    "**Applying logistic regression to find important features**"
   ]
  },
  {
   "cell_type": "code",
   "execution_count": 110,
   "id": "0e385e10",
   "metadata": {},
   "outputs": [
    {
     "name": "stdout",
     "output_type": "stream",
     "text": [
      "Fitting 5 folds for each of 10 candidates, totalling 50 fits\n",
      "{'C': 1, 'penalty': 'l2'}\n",
      "0.9012353706111833\n"
     ]
    }
   ],
   "source": [
    "from sklearn.linear_model import LogisticRegression\n",
    "lr=LogisticRegression()\n",
    "params={'C':[0.1,0.3,0.5,0.7,1],\n",
    "       'penalty':['l1','l2']}\n",
    "gcl=GridSearchCV(estimator=lr,param_grid=params,scoring='recall',n_jobs=-1, cv=5,verbose=True)\n",
    "gcl.fit(X_train_sc,y_train)\n",
    "print(gcl.best_params_)\n",
    "print(gcl.best_score_)"
   ]
  },
  {
   "cell_type": "code",
   "execution_count": 111,
   "id": "f943f690",
   "metadata": {},
   "outputs": [
    {
     "name": "stdout",
     "output_type": "stream",
     "text": [
      "0.9029275808936826\n",
      "0.9284393979403222\n",
      "0.9158236057068742\n",
      "[[3545  271]\n",
      " [ 378 3516]]\n"
     ]
    }
   ],
   "source": [
    "lr=LogisticRegression(C=1,penalty='l2')\n",
    "lr.fit(X_train_sc,y_train)\n",
    "from sklearn.metrics import recall_score,precision_score,confusion_matrix,accuracy_score\n",
    "print(recall_score(y_test,lr.predict(X_test_sc)))\n",
    "print(precision_score(y_test,lr.predict(X_test_sc)))\n",
    "print(accuracy_score(y_test,lr.predict(X_test_sc)))\n",
    "print(confusion_matrix(y_test,lr.predict(X_test_sc)))"
   ]
  },
  {
   "cell_type": "markdown",
   "id": "7d293dbb",
   "metadata": {},
   "source": [
    "**Below are the important features**"
   ]
  },
  {
   "cell_type": "code",
   "execution_count": 123,
   "id": "8542a561",
   "metadata": {},
   "outputs": [
    {
     "data": {
      "text/html": [
       "<div>\n",
       "<style scoped>\n",
       "    .dataframe tbody tr th:only-of-type {\n",
       "        vertical-align: middle;\n",
       "    }\n",
       "\n",
       "    .dataframe tbody tr th {\n",
       "        vertical-align: top;\n",
       "    }\n",
       "\n",
       "    .dataframe thead th {\n",
       "        text-align: right;\n",
       "    }\n",
       "</style>\n",
       "<table border=\"1\" class=\"dataframe\">\n",
       "  <thead>\n",
       "    <tr style=\"text-align: right;\">\n",
       "      <th></th>\n",
       "      <th>Feature</th>\n",
       "      <th>Coef</th>\n",
       "      <th>Coef_Abs</th>\n",
       "    </tr>\n",
       "  </thead>\n",
       "  <tbody>\n",
       "    <tr>\n",
       "      <th>39</th>\n",
       "      <td>total_rech_data_6</td>\n",
       "      <td>11.876181</td>\n",
       "      <td>11.876181</td>\n",
       "    </tr>\n",
       "    <tr>\n",
       "      <th>41</th>\n",
       "      <td>total_rech_data_8</td>\n",
       "      <td>10.982571</td>\n",
       "      <td>10.982571</td>\n",
       "    </tr>\n",
       "    <tr>\n",
       "      <th>40</th>\n",
       "      <td>total_rech_data_7</td>\n",
       "      <td>10.937758</td>\n",
       "      <td>10.937758</td>\n",
       "    </tr>\n",
       "    <tr>\n",
       "      <th>57</th>\n",
       "      <td>sachet_2g_6</td>\n",
       "      <td>-10.346828</td>\n",
       "      <td>10.346828</td>\n",
       "    </tr>\n",
       "    <tr>\n",
       "      <th>59</th>\n",
       "      <td>sachet_2g_8</td>\n",
       "      <td>-9.875336</td>\n",
       "      <td>9.875336</td>\n",
       "    </tr>\n",
       "    <tr>\n",
       "      <th>58</th>\n",
       "      <td>sachet_2g_7</td>\n",
       "      <td>-9.685197</td>\n",
       "      <td>9.685197</td>\n",
       "    </tr>\n",
       "    <tr>\n",
       "      <th>23</th>\n",
       "      <td>total_og_mou_8</td>\n",
       "      <td>-6.549078</td>\n",
       "      <td>6.549078</td>\n",
       "    </tr>\n",
       "    <tr>\n",
       "      <th>65</th>\n",
       "      <td>sachet_3g_8</td>\n",
       "      <td>-4.330108</td>\n",
       "      <td>4.330108</td>\n",
       "    </tr>\n",
       "    <tr>\n",
       "      <th>8</th>\n",
       "      <td>onnet_mou_8</td>\n",
       "      <td>3.951073</td>\n",
       "      <td>3.951073</td>\n",
       "    </tr>\n",
       "    <tr>\n",
       "      <th>63</th>\n",
       "      <td>sachet_3g_6</td>\n",
       "      <td>-3.882084</td>\n",
       "      <td>3.882084</td>\n",
       "    </tr>\n",
       "  </tbody>\n",
       "</table>\n",
       "</div>"
      ],
      "text/plain": [
       "              Feature       Coef   Coef_Abs\n",
       "39  total_rech_data_6  11.876181  11.876181\n",
       "41  total_rech_data_8  10.982571  10.982571\n",
       "40  total_rech_data_7  10.937758  10.937758\n",
       "57        sachet_2g_6 -10.346828  10.346828\n",
       "59        sachet_2g_8  -9.875336   9.875336\n",
       "58        sachet_2g_7  -9.685197   9.685197\n",
       "23     total_og_mou_8  -6.549078   6.549078\n",
       "65        sachet_3g_8  -4.330108   4.330108\n",
       "8         onnet_mou_8   3.951073   3.951073\n",
       "63        sachet_3g_6  -3.882084   3.882084"
      ]
     },
     "execution_count": 123,
     "metadata": {},
     "output_type": "execute_result"
    }
   ],
   "source": [
    "Coef=list(lr.coef_[0])\n",
    "Coef_Abs=[abs(x) for x in Coef]\n",
    "cols = list(Tel_HVC.drop('churn_probability',axis=1).columns)\n",
    "Coef_df = pd.DataFrame(list(zip(cols,Coef,Coef_Abs)))\n",
    "Coef_df.columns = ['Feature','Coef','Coef_Abs']\n",
    "Coef_df.sort_values(by='Coef_Abs',ascending=False).head(10)"
   ]
  },
  {
   "cell_type": "code",
   "execution_count": null,
   "id": "984fab8d",
   "metadata": {},
   "outputs": [],
   "source": []
  }
 ],
 "metadata": {
  "kernelspec": {
   "display_name": "Python 3 (ipykernel)",
   "language": "python",
   "name": "python3"
  },
  "language_info": {
   "codemirror_mode": {
    "name": "ipython",
    "version": 3
   },
   "file_extension": ".py",
   "mimetype": "text/x-python",
   "name": "python",
   "nbconvert_exporter": "python",
   "pygments_lexer": "ipython3",
   "version": "3.9.7"
  }
 },
 "nbformat": 4,
 "nbformat_minor": 5
}
